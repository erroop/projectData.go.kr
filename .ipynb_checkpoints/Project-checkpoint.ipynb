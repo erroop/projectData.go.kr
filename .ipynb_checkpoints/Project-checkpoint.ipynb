{
 "cells": [
  {
   "cell_type": "code",
   "execution_count": 1,
   "id": "2f4cf5ed",
   "metadata": {},
   "outputs": [],
   "source": [
    "import pandas as pd\n",
    "import plotly.express as px"
   ]
  },
  {
   "cell_type": "code",
   "execution_count": null,
   "id": "45d3a281",
   "metadata": {},
   "outputs": [],
   "source": []
  },
  {
   "cell_type": "markdown",
   "id": "d6adba10",
   "metadata": {},
   "source": [
    "# 서울 특별시 자동차 등록수 전처리"
   ]
  },
  {
   "cell_type": "code",
   "execution_count": null,
   "id": "8fbf65c2",
   "metadata": {},
   "outputs": [],
   "source": [
    "# 자료 불러오기"
   ]
  },
  {
   "cell_type": "code",
   "execution_count": 13,
   "id": "310a5a2c",
   "metadata": {},
   "outputs": [],
   "source": [
    "df_2018 = pd.read_csv('./data/서울특별시 행정동별 친환경자동차 현황-제원번호 포함 자료(2018).csv', encoding = 'cp949')"
   ]
  },
  {
   "cell_type": "code",
   "execution_count": 14,
   "id": "ec38a86a",
   "metadata": {},
   "outputs": [],
   "source": [
    "df_2019 = pd.read_csv('./data/서울특별시 행정동별 친환경자동차 현황-제원번호 포함 자료(2019).csv', encoding = 'cp949')"
   ]
  },
  {
   "cell_type": "code",
   "execution_count": 15,
   "id": "391c790f",
   "metadata": {},
   "outputs": [],
   "source": [
    "df_2020 = pd.read_csv('./data/서울특별시 행정동별 친환경자동차 현황-제원번호 포함 자료(2020).csv', encoding = 'cp949')"
   ]
  },
  {
   "cell_type": "code",
   "execution_count": 16,
   "id": "617a06f8",
   "metadata": {},
   "outputs": [],
   "source": [
    "df_2021 = pd.read_csv('./data/서울특별시 행정동별 친환경자동차 현황-제원번호 포함 자료(2021).csv', encoding = 'cp949')"
   ]
  },
  {
   "cell_type": "code",
   "execution_count": 17,
   "id": "848c5607",
   "metadata": {},
   "outputs": [],
   "source": [
    "df_2022 = pd.read_csv('./data/서울특별시 행정동별 친환경자동차 현황-제원번호 포함 자료(2022).csv', encoding = 'cp949')"
   ]
  },
  {
   "cell_type": "code",
   "execution_count": 29,
   "id": "3c03ceb8",
   "metadata": {
    "collapsed": true
   },
   "outputs": [
    {
     "name": "stdout",
     "output_type": "stream",
     "text": [
      "<class 'pandas.core.frame.DataFrame'>\n",
      "RangeIndex: 84540 entries, 0 to 84539\n",
      "Data columns (total 7 columns):\n",
      " #   Column           Non-Null Count  Dtype  \n",
      "---  ------           --------------  -----  \n",
      " 0   기준년도             84540 non-null  object \n",
      " 1   사용본거지시읍면동_행정동기준  84522 non-null  object \n",
      " 2   차명               84540 non-null  object \n",
      " 3   연료               84540 non-null  object \n",
      " 4   최초등록일            84540 non-null  int64  \n",
      " 5   현소유자의출생년도        63085 non-null  float64\n",
      " 6   제원관리번호           84540 non-null  object \n",
      "dtypes: float64(1), int64(1), object(5)\n",
      "memory usage: 4.5+ MB\n"
     ]
    }
   ],
   "source": [
    "df_2018.info()"
   ]
  },
  {
   "cell_type": "code",
   "execution_count": null,
   "id": "175ce34e",
   "metadata": {},
   "outputs": [],
   "source": []
  },
  {
   "cell_type": "code",
   "execution_count": null,
   "id": "6a09b820",
   "metadata": {},
   "outputs": [],
   "source": [
    "# 기준년월 칼럼값변경"
   ]
  },
  {
   "cell_type": "code",
   "execution_count": 28,
   "id": "ce48e16c",
   "metadata": {},
   "outputs": [],
   "source": [
    "df_2018['기준년도'] = \"2018\""
   ]
  },
  {
   "cell_type": "code",
   "execution_count": 30,
   "id": "4f8792fb",
   "metadata": {},
   "outputs": [],
   "source": [
    "df_2019['기준년월'] = '2019'"
   ]
  },
  {
   "cell_type": "code",
   "execution_count": 31,
   "id": "efd3d946",
   "metadata": {},
   "outputs": [],
   "source": [
    "df_2020['기준년월'] = '2020'"
   ]
  },
  {
   "cell_type": "code",
   "execution_count": 32,
   "id": "de0f56ee",
   "metadata": {},
   "outputs": [],
   "source": [
    "df_2021['기준년월'] = '2021'"
   ]
  },
  {
   "cell_type": "code",
   "execution_count": 33,
   "id": "0e9bb3af",
   "metadata": {},
   "outputs": [],
   "source": [
    "df_2022['기준년월'] = '2022'"
   ]
  },
  {
   "cell_type": "code",
   "execution_count": null,
   "id": "382e6775",
   "metadata": {},
   "outputs": [],
   "source": []
  },
  {
   "cell_type": "code",
   "execution_count": null,
   "id": "ec07a00c",
   "metadata": {},
   "outputs": [],
   "source": [
    "# 기준년월 컬럼명 변경"
   ]
  },
  {
   "cell_type": "code",
   "execution_count": 26,
   "id": "97e56b67",
   "metadata": {},
   "outputs": [],
   "source": [
    "df_2018.rename(columns = {\"기준년월\" : \"기준년도\"}, inplace = True)"
   ]
  },
  {
   "cell_type": "code",
   "execution_count": 34,
   "id": "2d972e77",
   "metadata": {},
   "outputs": [],
   "source": [
    "df_2019.rename(columns = {\"기준년월\" : \"기준년도\"}, inplace = True)"
   ]
  },
  {
   "cell_type": "code",
   "execution_count": 35,
   "id": "0cec9ec4",
   "metadata": {},
   "outputs": [],
   "source": [
    "df_2020.rename(columns = {\"기준년월\" : \"기준년도\"}, inplace = True)"
   ]
  },
  {
   "cell_type": "code",
   "execution_count": 36,
   "id": "8f7aafdb",
   "metadata": {},
   "outputs": [],
   "source": [
    "df_2021.rename(columns = {\"기준년월\" : \"기준년도\"}, inplace = True)"
   ]
  },
  {
   "cell_type": "code",
   "execution_count": 37,
   "id": "9bd2e2be",
   "metadata": {},
   "outputs": [],
   "source": [
    "df_2022.rename(columns = {\"기준년월\" : \"기준년도\"}, inplace = True)"
   ]
  },
  {
   "cell_type": "code",
   "execution_count": null,
   "id": "a74ccbcf",
   "metadata": {},
   "outputs": [],
   "source": []
  },
  {
   "cell_type": "code",
   "execution_count": null,
   "id": "88cff7e9",
   "metadata": {},
   "outputs": [],
   "source": [
    "# 필요없는 데이터 컬럼 삭제"
   ]
  },
  {
   "cell_type": "code",
   "execution_count": 54,
   "id": "5b3c0a36",
   "metadata": {},
   "outputs": [],
   "source": [
    "df_2022.drop(['최초등록일' , '현소유자의출생년도', '제원관리번호'], axis = 1 , inplace = True)"
   ]
  },
  {
   "cell_type": "code",
   "execution_count": 55,
   "id": "8c433aad",
   "metadata": {
    "collapsed": true
   },
   "outputs": [
    {
     "data": {
      "text/html": [
       "<div>\n",
       "<style scoped>\n",
       "    .dataframe tbody tr th:only-of-type {\n",
       "        vertical-align: middle;\n",
       "    }\n",
       "\n",
       "    .dataframe tbody tr th {\n",
       "        vertical-align: top;\n",
       "    }\n",
       "\n",
       "    .dataframe thead th {\n",
       "        text-align: right;\n",
       "    }\n",
       "</style>\n",
       "<table border=\"1\" class=\"dataframe\">\n",
       "  <thead>\n",
       "    <tr style=\"text-align: right;\">\n",
       "      <th></th>\n",
       "      <th>기준년도</th>\n",
       "      <th>사용본거지시읍면동_행정동기준</th>\n",
       "      <th>차명</th>\n",
       "      <th>연료</th>\n",
       "    </tr>\n",
       "  </thead>\n",
       "  <tbody>\n",
       "    <tr>\n",
       "      <th>0</th>\n",
       "      <td>2022</td>\n",
       "      <td>서울특별시 강남구 개포1동</td>\n",
       "      <td>토요타 RAV4 Hybrid AWD</td>\n",
       "      <td>하이브리드(휘발유+전기)</td>\n",
       "    </tr>\n",
       "    <tr>\n",
       "      <th>1</th>\n",
       "      <td>2022</td>\n",
       "      <td>서울특별시 강남구 개포1동</td>\n",
       "      <td>그랜저 하이브리드</td>\n",
       "      <td>하이브리드(휘발유+전기)</td>\n",
       "    </tr>\n",
       "    <tr>\n",
       "      <th>2</th>\n",
       "      <td>2022</td>\n",
       "      <td>서울특별시 강남구 개포1동</td>\n",
       "      <td>토요타 Camry Hybrid</td>\n",
       "      <td>하이브리드(휘발유+전기)</td>\n",
       "    </tr>\n",
       "    <tr>\n",
       "      <th>3</th>\n",
       "      <td>2022</td>\n",
       "      <td>서울특별시 강남구 개포1동</td>\n",
       "      <td>렉서스 ES300h</td>\n",
       "      <td>하이브리드(휘발유+전기)</td>\n",
       "    </tr>\n",
       "    <tr>\n",
       "      <th>4</th>\n",
       "      <td>2022</td>\n",
       "      <td>서울특별시 강남구 개포1동</td>\n",
       "      <td>토요타 RAV4 Hybrid AWD</td>\n",
       "      <td>하이브리드(휘발유+전기)</td>\n",
       "    </tr>\n",
       "    <tr>\n",
       "      <th>...</th>\n",
       "      <td>...</td>\n",
       "      <td>...</td>\n",
       "      <td>...</td>\n",
       "      <td>...</td>\n",
       "    </tr>\n",
       "    <tr>\n",
       "      <th>189581</th>\n",
       "      <td>2022</td>\n",
       "      <td>서울특별시 중랑구 중화2동</td>\n",
       "      <td>토요타 Camry Hybrid</td>\n",
       "      <td>하이브리드(휘발유+전기)</td>\n",
       "    </tr>\n",
       "    <tr>\n",
       "      <th>189582</th>\n",
       "      <td>2022</td>\n",
       "      <td>서울특별시 중랑구 중화2동</td>\n",
       "      <td>그랜저(GRANDEUR) 하이브리드</td>\n",
       "      <td>하이브리드(휘발유+전기)</td>\n",
       "    </tr>\n",
       "    <tr>\n",
       "      <th>189583</th>\n",
       "      <td>2022</td>\n",
       "      <td>서울특별시 중랑구 중화2동</td>\n",
       "      <td>니로 하이브리드</td>\n",
       "      <td>하이브리드(휘발유+전기)</td>\n",
       "    </tr>\n",
       "    <tr>\n",
       "      <th>189584</th>\n",
       "      <td>2022</td>\n",
       "      <td>서울특별시 중랑구 중화2동</td>\n",
       "      <td>포터Ⅱ 일렉트릭 (PORTERⅡ EL</td>\n",
       "      <td>전기</td>\n",
       "    </tr>\n",
       "    <tr>\n",
       "      <th>189585</th>\n",
       "      <td>2022</td>\n",
       "      <td>NaN</td>\n",
       "      <td>K5 하이브리드</td>\n",
       "      <td>하이브리드(휘발유+전기)</td>\n",
       "    </tr>\n",
       "  </tbody>\n",
       "</table>\n",
       "<p>189586 rows × 4 columns</p>\n",
       "</div>"
      ],
      "text/plain": [
       "        기준년도 사용본거지시읍면동_행정동기준                    차명             연료\n",
       "0       2022  서울특별시 강남구 개포1동   토요타 RAV4 Hybrid AWD  하이브리드(휘발유+전기)\n",
       "1       2022  서울특별시 강남구 개포1동             그랜저 하이브리드  하이브리드(휘발유+전기)\n",
       "2       2022  서울특별시 강남구 개포1동      토요타 Camry Hybrid  하이브리드(휘발유+전기)\n",
       "3       2022  서울특별시 강남구 개포1동            렉서스 ES300h  하이브리드(휘발유+전기)\n",
       "4       2022  서울특별시 강남구 개포1동   토요타 RAV4 Hybrid AWD  하이브리드(휘발유+전기)\n",
       "...      ...             ...                   ...            ...\n",
       "189581  2022  서울특별시 중랑구 중화2동      토요타 Camry Hybrid  하이브리드(휘발유+전기)\n",
       "189582  2022  서울특별시 중랑구 중화2동   그랜저(GRANDEUR) 하이브리드  하이브리드(휘발유+전기)\n",
       "189583  2022  서울특별시 중랑구 중화2동              니로 하이브리드  하이브리드(휘발유+전기)\n",
       "189584  2022  서울특별시 중랑구 중화2동  포터Ⅱ 일렉트릭 (PORTERⅡ EL             전기\n",
       "189585  2022             NaN              K5 하이브리드  하이브리드(휘발유+전기)\n",
       "\n",
       "[189586 rows x 4 columns]"
      ]
     },
     "execution_count": 55,
     "metadata": {},
     "output_type": "execute_result"
    }
   ],
   "source": [
    "df_2022"
   ]
  },
  {
   "cell_type": "code",
   "execution_count": null,
   "id": "aba270ae",
   "metadata": {},
   "outputs": [],
   "source": []
  },
  {
   "cell_type": "code",
   "execution_count": null,
   "id": "c7c10224",
   "metadata": {},
   "outputs": [],
   "source": [
    "# 1차 전처리한 데이터 csv형식으로 저장"
   ]
  },
  {
   "cell_type": "code",
   "execution_count": 59,
   "id": "8105010c",
   "metadata": {},
   "outputs": [],
   "source": [
    "df_2018.to_csv('2018년도 전기차 현황.csv', encoding = 'cp949')"
   ]
  },
  {
   "cell_type": "code",
   "execution_count": 60,
   "id": "6937118d",
   "metadata": {},
   "outputs": [],
   "source": [
    "df_2019.to_csv('2019년도 전기차 현황.csv', encoding = 'cp949')"
   ]
  },
  {
   "cell_type": "code",
   "execution_count": 61,
   "id": "ced24e5d",
   "metadata": {},
   "outputs": [],
   "source": [
    "df_2020.to_csv('2020년도 전기차 현황.csv', encoding = 'cp949')"
   ]
  },
  {
   "cell_type": "code",
   "execution_count": 62,
   "id": "3d2835cc",
   "metadata": {},
   "outputs": [],
   "source": [
    "df_2021.to_csv('2021년도 전기차 현황.csv', encoding = 'cp949')"
   ]
  },
  {
   "cell_type": "code",
   "execution_count": 63,
   "id": "c83571c2",
   "metadata": {},
   "outputs": [],
   "source": [
    "df_2022.to_csv('2022년도 전기차 현황.csv', encoding = 'cp949')"
   ]
  },
  {
   "cell_type": "code",
   "execution_count": null,
   "id": "ab784ff2",
   "metadata": {},
   "outputs": [],
   "source": []
  },
  {
   "cell_type": "markdown",
   "id": "313942c9",
   "metadata": {},
   "source": [
    "# 1차 전처리한 데이터로 진행"
   ]
  },
  {
   "cell_type": "code",
   "execution_count": null,
   "id": "b5a94fab",
   "metadata": {},
   "outputs": [],
   "source": []
  },
  {
   "cell_type": "code",
   "execution_count": null,
   "id": "9430d424",
   "metadata": {},
   "outputs": [],
   "source": [
    "# nan값 확인 및 삭제"
   ]
  },
  {
   "cell_type": "code",
   "execution_count": 100,
   "id": "73c0c40f",
   "metadata": {
    "collapsed": true
   },
   "outputs": [
    {
     "data": {
      "text/plain": [
       "기준년도                0\n",
       "사용본거지시읍면동_행정동기준    18\n",
       "차명                  0\n",
       "연료                  0\n",
       "dtype: int64"
      ]
     },
     "execution_count": 100,
     "metadata": {},
     "output_type": "execute_result"
    }
   ],
   "source": [
    "df_2018.isnull().sum()"
   ]
  },
  {
   "cell_type": "code",
   "execution_count": 96,
   "id": "f5a03218",
   "metadata": {
    "collapsed": true
   },
   "outputs": [
    {
     "data": {
      "text/html": [
       "<div>\n",
       "<style scoped>\n",
       "    .dataframe tbody tr th:only-of-type {\n",
       "        vertical-align: middle;\n",
       "    }\n",
       "\n",
       "    .dataframe tbody tr th {\n",
       "        vertical-align: top;\n",
       "    }\n",
       "\n",
       "    .dataframe thead th {\n",
       "        text-align: right;\n",
       "    }\n",
       "</style>\n",
       "<table border=\"1\" class=\"dataframe\">\n",
       "  <thead>\n",
       "    <tr style=\"text-align: right;\">\n",
       "      <th></th>\n",
       "      <th>기준년도</th>\n",
       "      <th>사용본거지시읍면동_행정동기준</th>\n",
       "      <th>차명</th>\n",
       "      <th>연료</th>\n",
       "    </tr>\n",
       "  </thead>\n",
       "  <tbody>\n",
       "    <tr>\n",
       "      <th>2232</th>\n",
       "      <td>2018</td>\n",
       "      <td>NaN</td>\n",
       "      <td>K5 하이브리드</td>\n",
       "      <td>하이브리드(휘발유+전기)</td>\n",
       "    </tr>\n",
       "    <tr>\n",
       "      <th>4460</th>\n",
       "      <td>2018</td>\n",
       "      <td>NaN</td>\n",
       "      <td>토요타 Prius</td>\n",
       "      <td>하이브리드(휘발유+전기)</td>\n",
       "    </tr>\n",
       "    <tr>\n",
       "      <th>4461</th>\n",
       "      <td>2018</td>\n",
       "      <td>NaN</td>\n",
       "      <td>그랜저(GRANDEUR) 하이브리드</td>\n",
       "      <td>하이브리드(휘발유+전기)</td>\n",
       "    </tr>\n",
       "    <tr>\n",
       "      <th>4925</th>\n",
       "      <td>2018</td>\n",
       "      <td>NaN</td>\n",
       "      <td>렉서스 ES300h</td>\n",
       "      <td>하이브리드(휘발유+전기)</td>\n",
       "    </tr>\n",
       "    <tr>\n",
       "      <th>5706</th>\n",
       "      <td>2018</td>\n",
       "      <td>NaN</td>\n",
       "      <td>아반떼 하이브리드(AVANTE HYB</td>\n",
       "      <td>하이브리드(LPG+전기)</td>\n",
       "    </tr>\n",
       "    <tr>\n",
       "      <th>19977</th>\n",
       "      <td>2018</td>\n",
       "      <td>NaN</td>\n",
       "      <td>그랜저 하이브리드 (GRANDEUR</td>\n",
       "      <td>하이브리드(휘발유+전기)</td>\n",
       "    </tr>\n",
       "    <tr>\n",
       "      <th>28685</th>\n",
       "      <td>2018</td>\n",
       "      <td>NaN</td>\n",
       "      <td>렉서스 RX450h</td>\n",
       "      <td>하이브리드(휘발유+전기)</td>\n",
       "    </tr>\n",
       "    <tr>\n",
       "      <th>33120</th>\n",
       "      <td>2018</td>\n",
       "      <td>NaN</td>\n",
       "      <td>렉서스 ES300h</td>\n",
       "      <td>하이브리드(휘발유+전기)</td>\n",
       "    </tr>\n",
       "    <tr>\n",
       "      <th>36334</th>\n",
       "      <td>2018</td>\n",
       "      <td>NaN</td>\n",
       "      <td>그랜저 하이브리드 (GRANDEUR</td>\n",
       "      <td>하이브리드(휘발유+전기)</td>\n",
       "    </tr>\n",
       "    <tr>\n",
       "      <th>36912</th>\n",
       "      <td>2018</td>\n",
       "      <td>NaN</td>\n",
       "      <td>K5 하이브리드</td>\n",
       "      <td>하이브리드(휘발유+전기)</td>\n",
       "    </tr>\n",
       "    <tr>\n",
       "      <th>37058</th>\n",
       "      <td>2018</td>\n",
       "      <td>NaN</td>\n",
       "      <td>K5 하이브리드</td>\n",
       "      <td>하이브리드(휘발유+전기)</td>\n",
       "    </tr>\n",
       "    <tr>\n",
       "      <th>47561</th>\n",
       "      <td>2018</td>\n",
       "      <td>NaN</td>\n",
       "      <td>쏘나타 (SONATA) 하이브리드</td>\n",
       "      <td>하이브리드(휘발유+전기)</td>\n",
       "    </tr>\n",
       "    <tr>\n",
       "      <th>61445</th>\n",
       "      <td>2018</td>\n",
       "      <td>NaN</td>\n",
       "      <td>INSIGHT</td>\n",
       "      <td>하이브리드(휘발유+전기)</td>\n",
       "    </tr>\n",
       "    <tr>\n",
       "      <th>66386</th>\n",
       "      <td>2018</td>\n",
       "      <td>NaN</td>\n",
       "      <td>렉서스 NX300h</td>\n",
       "      <td>하이브리드(휘발유+전기)</td>\n",
       "    </tr>\n",
       "    <tr>\n",
       "      <th>66387</th>\n",
       "      <td>2018</td>\n",
       "      <td>NaN</td>\n",
       "      <td>렉서스 ES300h</td>\n",
       "      <td>하이브리드(휘발유+전기)</td>\n",
       "    </tr>\n",
       "    <tr>\n",
       "      <th>71550</th>\n",
       "      <td>2018</td>\n",
       "      <td>NaN</td>\n",
       "      <td>BMW i3</td>\n",
       "      <td>전기</td>\n",
       "    </tr>\n",
       "    <tr>\n",
       "      <th>72665</th>\n",
       "      <td>2018</td>\n",
       "      <td>NaN</td>\n",
       "      <td>렉서스 ES300h</td>\n",
       "      <td>하이브리드(휘발유+전기)</td>\n",
       "    </tr>\n",
       "    <tr>\n",
       "      <th>80231</th>\n",
       "      <td>2018</td>\n",
       "      <td>NaN</td>\n",
       "      <td>렉서스 ES300h</td>\n",
       "      <td>하이브리드(휘발유+전기)</td>\n",
       "    </tr>\n",
       "  </tbody>\n",
       "</table>\n",
       "</div>"
      ],
      "text/plain": [
       "       기준년도 사용본거지시읍면동_행정동기준                    차명             연료\n",
       "2232   2018             NaN              K5 하이브리드  하이브리드(휘발유+전기)\n",
       "4460   2018             NaN             토요타 Prius  하이브리드(휘발유+전기)\n",
       "4461   2018             NaN   그랜저(GRANDEUR) 하이브리드  하이브리드(휘발유+전기)\n",
       "4925   2018             NaN            렉서스 ES300h  하이브리드(휘발유+전기)\n",
       "5706   2018             NaN  아반떼 하이브리드(AVANTE HYB  하이브리드(LPG+전기)\n",
       "19977  2018             NaN  그랜저 하이브리드 (GRANDEUR   하이브리드(휘발유+전기)\n",
       "28685  2018             NaN            렉서스 RX450h  하이브리드(휘발유+전기)\n",
       "33120  2018             NaN            렉서스 ES300h  하이브리드(휘발유+전기)\n",
       "36334  2018             NaN  그랜저 하이브리드 (GRANDEUR   하이브리드(휘발유+전기)\n",
       "36912  2018             NaN              K5 하이브리드  하이브리드(휘발유+전기)\n",
       "37058  2018             NaN              K5 하이브리드  하이브리드(휘발유+전기)\n",
       "47561  2018             NaN    쏘나타 (SONATA) 하이브리드  하이브리드(휘발유+전기)\n",
       "61445  2018             NaN               INSIGHT  하이브리드(휘발유+전기)\n",
       "66386  2018             NaN            렉서스 NX300h  하이브리드(휘발유+전기)\n",
       "66387  2018             NaN            렉서스 ES300h  하이브리드(휘발유+전기)\n",
       "71550  2018             NaN                BMW i3             전기\n",
       "72665  2018             NaN            렉서스 ES300h  하이브리드(휘발유+전기)\n",
       "80231  2018             NaN            렉서스 ES300h  하이브리드(휘발유+전기)"
      ]
     },
     "execution_count": 96,
     "metadata": {},
     "output_type": "execute_result"
    }
   ],
   "source": [
    "df_2018[df_2018['사용본거지시읍면동_행정동기준'].isnull()]"
   ]
  },
  {
   "cell_type": "code",
   "execution_count": 101,
   "id": "f16027bc",
   "metadata": {
    "collapsed": true
   },
   "outputs": [
    {
     "data": {
      "text/plain": [
       "기준년도                0\n",
       "사용본거지시읍면동_행정동기준    15\n",
       "차명                  0\n",
       "연료                  0\n",
       "dtype: int64"
      ]
     },
     "execution_count": 101,
     "metadata": {},
     "output_type": "execute_result"
    }
   ],
   "source": [
    "df_2019.isnull().sum()"
   ]
  },
  {
   "cell_type": "code",
   "execution_count": 99,
   "id": "68bbe9e3",
   "metadata": {
    "collapsed": true
   },
   "outputs": [
    {
     "data": {
      "text/html": [
       "<div>\n",
       "<style scoped>\n",
       "    .dataframe tbody tr th:only-of-type {\n",
       "        vertical-align: middle;\n",
       "    }\n",
       "\n",
       "    .dataframe tbody tr th {\n",
       "        vertical-align: top;\n",
       "    }\n",
       "\n",
       "    .dataframe thead th {\n",
       "        text-align: right;\n",
       "    }\n",
       "</style>\n",
       "<table border=\"1\" class=\"dataframe\">\n",
       "  <thead>\n",
       "    <tr style=\"text-align: right;\">\n",
       "      <th></th>\n",
       "      <th>기준년도</th>\n",
       "      <th>사용본거지시읍면동_행정동기준</th>\n",
       "      <th>차명</th>\n",
       "      <th>연료</th>\n",
       "    </tr>\n",
       "  </thead>\n",
       "  <tbody>\n",
       "    <tr>\n",
       "      <th>16827</th>\n",
       "      <td>2019</td>\n",
       "      <td>NaN</td>\n",
       "      <td>렉서스 NX300h</td>\n",
       "      <td>하이브리드(휘발유+전기)</td>\n",
       "    </tr>\n",
       "    <tr>\n",
       "      <th>42847</th>\n",
       "      <td>2019</td>\n",
       "      <td>NaN</td>\n",
       "      <td>그랜저 하이브리드 (GRANDEUR</td>\n",
       "      <td>하이브리드(휘발유+전기)</td>\n",
       "    </tr>\n",
       "    <tr>\n",
       "      <th>50406</th>\n",
       "      <td>2019</td>\n",
       "      <td>NaN</td>\n",
       "      <td>INSIGHT</td>\n",
       "      <td>하이브리드(휘발유+전기)</td>\n",
       "    </tr>\n",
       "    <tr>\n",
       "      <th>59215</th>\n",
       "      <td>2019</td>\n",
       "      <td>NaN</td>\n",
       "      <td>렉서스 ES300h</td>\n",
       "      <td>하이브리드(휘발유+전기)</td>\n",
       "    </tr>\n",
       "    <tr>\n",
       "      <th>62462</th>\n",
       "      <td>2019</td>\n",
       "      <td>NaN</td>\n",
       "      <td>렉서스 ES300h</td>\n",
       "      <td>하이브리드(휘발유+전기)</td>\n",
       "    </tr>\n",
       "    <tr>\n",
       "      <th>66902</th>\n",
       "      <td>2019</td>\n",
       "      <td>NaN</td>\n",
       "      <td>K5 하이브리드</td>\n",
       "      <td>하이브리드(휘발유+전기)</td>\n",
       "    </tr>\n",
       "    <tr>\n",
       "      <th>74072</th>\n",
       "      <td>2019</td>\n",
       "      <td>NaN</td>\n",
       "      <td>렉서스 ES300h</td>\n",
       "      <td>하이브리드(휘발유+전기)</td>\n",
       "    </tr>\n",
       "    <tr>\n",
       "      <th>80441</th>\n",
       "      <td>2019</td>\n",
       "      <td>NaN</td>\n",
       "      <td>렉서스 RX450h</td>\n",
       "      <td>하이브리드(휘발유+전기)</td>\n",
       "    </tr>\n",
       "    <tr>\n",
       "      <th>86602</th>\n",
       "      <td>2019</td>\n",
       "      <td>NaN</td>\n",
       "      <td>K5 하이브리드</td>\n",
       "      <td>하이브리드(휘발유+전기)</td>\n",
       "    </tr>\n",
       "    <tr>\n",
       "      <th>89595</th>\n",
       "      <td>2019</td>\n",
       "      <td>NaN</td>\n",
       "      <td>K5 하이브리드</td>\n",
       "      <td>하이브리드(휘발유+전기)</td>\n",
       "    </tr>\n",
       "    <tr>\n",
       "      <th>91682</th>\n",
       "      <td>2019</td>\n",
       "      <td>NaN</td>\n",
       "      <td>아반떼 하이브리드(AVANTE HYB</td>\n",
       "      <td>하이브리드(LPG+전기)</td>\n",
       "    </tr>\n",
       "    <tr>\n",
       "      <th>93442</th>\n",
       "      <td>2019</td>\n",
       "      <td>NaN</td>\n",
       "      <td>그랜저(GRANDEUR) 하이브리드</td>\n",
       "      <td>하이브리드(휘발유+전기)</td>\n",
       "    </tr>\n",
       "    <tr>\n",
       "      <th>103801</th>\n",
       "      <td>2019</td>\n",
       "      <td>NaN</td>\n",
       "      <td>렉서스 ES300h</td>\n",
       "      <td>하이브리드(휘발유+전기)</td>\n",
       "    </tr>\n",
       "    <tr>\n",
       "      <th>104208</th>\n",
       "      <td>2019</td>\n",
       "      <td>NaN</td>\n",
       "      <td>그랜저 하이브리드 (GRANDEUR</td>\n",
       "      <td>하이브리드(휘발유+전기)</td>\n",
       "    </tr>\n",
       "    <tr>\n",
       "      <th>106086</th>\n",
       "      <td>2019</td>\n",
       "      <td>NaN</td>\n",
       "      <td>K5 하이브리드</td>\n",
       "      <td>하이브리드(휘발유+전기)</td>\n",
       "    </tr>\n",
       "  </tbody>\n",
       "</table>\n",
       "</div>"
      ],
      "text/plain": [
       "        기준년도 사용본거지시읍면동_행정동기준                    차명             연료\n",
       "16827   2019             NaN            렉서스 NX300h  하이브리드(휘발유+전기)\n",
       "42847   2019             NaN  그랜저 하이브리드 (GRANDEUR   하이브리드(휘발유+전기)\n",
       "50406   2019             NaN               INSIGHT  하이브리드(휘발유+전기)\n",
       "59215   2019             NaN            렉서스 ES300h  하이브리드(휘발유+전기)\n",
       "62462   2019             NaN            렉서스 ES300h  하이브리드(휘발유+전기)\n",
       "66902   2019             NaN              K5 하이브리드  하이브리드(휘발유+전기)\n",
       "74072   2019             NaN            렉서스 ES300h  하이브리드(휘발유+전기)\n",
       "80441   2019             NaN            렉서스 RX450h  하이브리드(휘발유+전기)\n",
       "86602   2019             NaN              K5 하이브리드  하이브리드(휘발유+전기)\n",
       "89595   2019             NaN              K5 하이브리드  하이브리드(휘발유+전기)\n",
       "91682   2019             NaN  아반떼 하이브리드(AVANTE HYB  하이브리드(LPG+전기)\n",
       "93442   2019             NaN   그랜저(GRANDEUR) 하이브리드  하이브리드(휘발유+전기)\n",
       "103801  2019             NaN            렉서스 ES300h  하이브리드(휘발유+전기)\n",
       "104208  2019             NaN  그랜저 하이브리드 (GRANDEUR   하이브리드(휘발유+전기)\n",
       "106086  2019             NaN              K5 하이브리드  하이브리드(휘발유+전기)"
      ]
     },
     "execution_count": 99,
     "metadata": {},
     "output_type": "execute_result"
    }
   ],
   "source": [
    "df_2019[df_2019['사용본거지시읍면동_행정동기준'].isnull()]"
   ]
  },
  {
   "cell_type": "code",
   "execution_count": 102,
   "id": "c4e9e98c",
   "metadata": {
    "collapsed": true
   },
   "outputs": [
    {
     "data": {
      "text/plain": [
       "기준년도                0\n",
       "사용본거지시읍면동_행정동기준    11\n",
       "차명                  0\n",
       "연료                  0\n",
       "dtype: int64"
      ]
     },
     "execution_count": 102,
     "metadata": {},
     "output_type": "execute_result"
    }
   ],
   "source": [
    "df_2020.isnull().sum()"
   ]
  },
  {
   "cell_type": "code",
   "execution_count": 105,
   "id": "2ce7188d",
   "metadata": {
    "collapsed": true
   },
   "outputs": [
    {
     "data": {
      "text/html": [
       "<div>\n",
       "<style scoped>\n",
       "    .dataframe tbody tr th:only-of-type {\n",
       "        vertical-align: middle;\n",
       "    }\n",
       "\n",
       "    .dataframe tbody tr th {\n",
       "        vertical-align: top;\n",
       "    }\n",
       "\n",
       "    .dataframe thead th {\n",
       "        text-align: right;\n",
       "    }\n",
       "</style>\n",
       "<table border=\"1\" class=\"dataframe\">\n",
       "  <thead>\n",
       "    <tr style=\"text-align: right;\">\n",
       "      <th></th>\n",
       "      <th>기준년도</th>\n",
       "      <th>사용본거지시읍면동_행정동기준</th>\n",
       "      <th>차명</th>\n",
       "      <th>연료</th>\n",
       "    </tr>\n",
       "  </thead>\n",
       "  <tbody>\n",
       "    <tr>\n",
       "      <th>36923</th>\n",
       "      <td>2020</td>\n",
       "      <td>NaN</td>\n",
       "      <td>렉서스 ES300h</td>\n",
       "      <td>하이브리드(휘발유+전기)</td>\n",
       "    </tr>\n",
       "    <tr>\n",
       "      <th>48459</th>\n",
       "      <td>2020</td>\n",
       "      <td>NaN</td>\n",
       "      <td>K5 하이브리드</td>\n",
       "      <td>하이브리드(휘발유+전기)</td>\n",
       "    </tr>\n",
       "    <tr>\n",
       "      <th>55030</th>\n",
       "      <td>2020</td>\n",
       "      <td>NaN</td>\n",
       "      <td>렉서스 ES300h</td>\n",
       "      <td>하이브리드(휘발유+전기)</td>\n",
       "    </tr>\n",
       "    <tr>\n",
       "      <th>55222</th>\n",
       "      <td>2020</td>\n",
       "      <td>NaN</td>\n",
       "      <td>INSIGHT</td>\n",
       "      <td>하이브리드(휘발유+전기)</td>\n",
       "    </tr>\n",
       "    <tr>\n",
       "      <th>59625</th>\n",
       "      <td>2020</td>\n",
       "      <td>NaN</td>\n",
       "      <td>K5 하이브리드</td>\n",
       "      <td>하이브리드(휘발유+전기)</td>\n",
       "    </tr>\n",
       "    <tr>\n",
       "      <th>73601</th>\n",
       "      <td>2020</td>\n",
       "      <td>NaN</td>\n",
       "      <td>렉서스 RX450h</td>\n",
       "      <td>하이브리드(휘발유+전기)</td>\n",
       "    </tr>\n",
       "    <tr>\n",
       "      <th>82663</th>\n",
       "      <td>2020</td>\n",
       "      <td>NaN</td>\n",
       "      <td>렉서스 NX300h</td>\n",
       "      <td>하이브리드(휘발유+전기)</td>\n",
       "    </tr>\n",
       "    <tr>\n",
       "      <th>92360</th>\n",
       "      <td>2020</td>\n",
       "      <td>NaN</td>\n",
       "      <td>K5 하이브리드</td>\n",
       "      <td>하이브리드(휘발유+전기)</td>\n",
       "    </tr>\n",
       "    <tr>\n",
       "      <th>107939</th>\n",
       "      <td>2020</td>\n",
       "      <td>NaN</td>\n",
       "      <td>렉서스 ES300h</td>\n",
       "      <td>하이브리드(휘발유+전기)</td>\n",
       "    </tr>\n",
       "    <tr>\n",
       "      <th>118404</th>\n",
       "      <td>2020</td>\n",
       "      <td>NaN</td>\n",
       "      <td>그랜저 하이브리드 (GRANDEUR</td>\n",
       "      <td>하이브리드(휘발유+전기)</td>\n",
       "    </tr>\n",
       "    <tr>\n",
       "      <th>140015</th>\n",
       "      <td>2020</td>\n",
       "      <td>NaN</td>\n",
       "      <td>그랜저(GRANDEUR) 하이브리드</td>\n",
       "      <td>하이브리드(휘발유+전기)</td>\n",
       "    </tr>\n",
       "  </tbody>\n",
       "</table>\n",
       "</div>"
      ],
      "text/plain": [
       "        기준년도 사용본거지시읍면동_행정동기준                    차명             연료\n",
       "36923   2020             NaN            렉서스 ES300h  하이브리드(휘발유+전기)\n",
       "48459   2020             NaN              K5 하이브리드  하이브리드(휘발유+전기)\n",
       "55030   2020             NaN            렉서스 ES300h  하이브리드(휘발유+전기)\n",
       "55222   2020             NaN               INSIGHT  하이브리드(휘발유+전기)\n",
       "59625   2020             NaN              K5 하이브리드  하이브리드(휘발유+전기)\n",
       "73601   2020             NaN            렉서스 RX450h  하이브리드(휘발유+전기)\n",
       "82663   2020             NaN            렉서스 NX300h  하이브리드(휘발유+전기)\n",
       "92360   2020             NaN              K5 하이브리드  하이브리드(휘발유+전기)\n",
       "107939  2020             NaN            렉서스 ES300h  하이브리드(휘발유+전기)\n",
       "118404  2020             NaN  그랜저 하이브리드 (GRANDEUR   하이브리드(휘발유+전기)\n",
       "140015  2020             NaN   그랜저(GRANDEUR) 하이브리드  하이브리드(휘발유+전기)"
      ]
     },
     "execution_count": 105,
     "metadata": {},
     "output_type": "execute_result"
    }
   ],
   "source": [
    "df_2020[df_2020['사용본거지시읍면동_행정동기준'].isnull()]"
   ]
  },
  {
   "cell_type": "code",
   "execution_count": 103,
   "id": "e8c075a3",
   "metadata": {
    "collapsed": true
   },
   "outputs": [
    {
     "data": {
      "text/plain": [
       "기준년도                0\n",
       "사용본거지시읍면동_행정동기준    11\n",
       "차명                  0\n",
       "연료                  0\n",
       "dtype: int64"
      ]
     },
     "execution_count": 103,
     "metadata": {},
     "output_type": "execute_result"
    }
   ],
   "source": [
    "df_2021.isnull().sum()"
   ]
  },
  {
   "cell_type": "code",
   "execution_count": 106,
   "id": "44e10fa6",
   "metadata": {
    "collapsed": true
   },
   "outputs": [
    {
     "data": {
      "text/html": [
       "<div>\n",
       "<style scoped>\n",
       "    .dataframe tbody tr th:only-of-type {\n",
       "        vertical-align: middle;\n",
       "    }\n",
       "\n",
       "    .dataframe tbody tr th {\n",
       "        vertical-align: top;\n",
       "    }\n",
       "\n",
       "    .dataframe thead th {\n",
       "        text-align: right;\n",
       "    }\n",
       "</style>\n",
       "<table border=\"1\" class=\"dataframe\">\n",
       "  <thead>\n",
       "    <tr style=\"text-align: right;\">\n",
       "      <th></th>\n",
       "      <th>기준년도</th>\n",
       "      <th>사용본거지시읍면동_행정동기준</th>\n",
       "      <th>차명</th>\n",
       "      <th>연료</th>\n",
       "    </tr>\n",
       "  </thead>\n",
       "  <tbody>\n",
       "    <tr>\n",
       "      <th>7385</th>\n",
       "      <td>2021</td>\n",
       "      <td>NaN</td>\n",
       "      <td>K5 하이브리드</td>\n",
       "      <td>하이브리드(휘발유+전기)</td>\n",
       "    </tr>\n",
       "    <tr>\n",
       "      <th>43428</th>\n",
       "      <td>2021</td>\n",
       "      <td>NaN</td>\n",
       "      <td>렉서스 ES300h</td>\n",
       "      <td>하이브리드(휘발유+전기)</td>\n",
       "    </tr>\n",
       "    <tr>\n",
       "      <th>45554</th>\n",
       "      <td>2021</td>\n",
       "      <td>NaN</td>\n",
       "      <td>그랜저(GRANDEUR) 하이브리드</td>\n",
       "      <td>하이브리드(휘발유+전기)</td>\n",
       "    </tr>\n",
       "    <tr>\n",
       "      <th>48171</th>\n",
       "      <td>2021</td>\n",
       "      <td>NaN</td>\n",
       "      <td>렉서스 ES300h</td>\n",
       "      <td>하이브리드(휘발유+전기)</td>\n",
       "    </tr>\n",
       "    <tr>\n",
       "      <th>62257</th>\n",
       "      <td>2021</td>\n",
       "      <td>NaN</td>\n",
       "      <td>K5 하이브리드</td>\n",
       "      <td>하이브리드(휘발유+전기)</td>\n",
       "    </tr>\n",
       "    <tr>\n",
       "      <th>90611</th>\n",
       "      <td>2021</td>\n",
       "      <td>NaN</td>\n",
       "      <td>INSIGHT</td>\n",
       "      <td>하이브리드(휘발유+전기)</td>\n",
       "    </tr>\n",
       "    <tr>\n",
       "      <th>124065</th>\n",
       "      <td>2021</td>\n",
       "      <td>NaN</td>\n",
       "      <td>그랜저 하이브리드 (GRANDEUR</td>\n",
       "      <td>하이브리드(휘발유+전기)</td>\n",
       "    </tr>\n",
       "    <tr>\n",
       "      <th>134770</th>\n",
       "      <td>2021</td>\n",
       "      <td>NaN</td>\n",
       "      <td>렉서스 NX300h</td>\n",
       "      <td>하이브리드(휘발유+전기)</td>\n",
       "    </tr>\n",
       "    <tr>\n",
       "      <th>166329</th>\n",
       "      <td>2021</td>\n",
       "      <td>NaN</td>\n",
       "      <td>렉서스 ES300h</td>\n",
       "      <td>하이브리드(휘발유+전기)</td>\n",
       "    </tr>\n",
       "    <tr>\n",
       "      <th>169686</th>\n",
       "      <td>2021</td>\n",
       "      <td>NaN</td>\n",
       "      <td>렉서스 RX450h</td>\n",
       "      <td>하이브리드(휘발유+전기)</td>\n",
       "    </tr>\n",
       "    <tr>\n",
       "      <th>176128</th>\n",
       "      <td>2021</td>\n",
       "      <td>NaN</td>\n",
       "      <td>K5 하이브리드</td>\n",
       "      <td>하이브리드(휘발유+전기)</td>\n",
       "    </tr>\n",
       "  </tbody>\n",
       "</table>\n",
       "</div>"
      ],
      "text/plain": [
       "        기준년도 사용본거지시읍면동_행정동기준                    차명             연료\n",
       "7385    2021             NaN              K5 하이브리드  하이브리드(휘발유+전기)\n",
       "43428   2021             NaN            렉서스 ES300h  하이브리드(휘발유+전기)\n",
       "45554   2021             NaN   그랜저(GRANDEUR) 하이브리드  하이브리드(휘발유+전기)\n",
       "48171   2021             NaN            렉서스 ES300h  하이브리드(휘발유+전기)\n",
       "62257   2021             NaN              K5 하이브리드  하이브리드(휘발유+전기)\n",
       "90611   2021             NaN               INSIGHT  하이브리드(휘발유+전기)\n",
       "124065  2021             NaN  그랜저 하이브리드 (GRANDEUR   하이브리드(휘발유+전기)\n",
       "134770  2021             NaN            렉서스 NX300h  하이브리드(휘발유+전기)\n",
       "166329  2021             NaN            렉서스 ES300h  하이브리드(휘발유+전기)\n",
       "169686  2021             NaN            렉서스 RX450h  하이브리드(휘발유+전기)\n",
       "176128  2021             NaN              K5 하이브리드  하이브리드(휘발유+전기)"
      ]
     },
     "execution_count": 106,
     "metadata": {},
     "output_type": "execute_result"
    }
   ],
   "source": [
    "df_2021[df_2021['사용본거지시읍면동_행정동기준'].isnull()]"
   ]
  },
  {
   "cell_type": "code",
   "execution_count": 104,
   "id": "64f07b07",
   "metadata": {
    "collapsed": true
   },
   "outputs": [
    {
     "data": {
      "text/plain": [
       "기준년도                0\n",
       "사용본거지시읍면동_행정동기준    11\n",
       "차명                  0\n",
       "연료                  0\n",
       "dtype: int64"
      ]
     },
     "execution_count": 104,
     "metadata": {},
     "output_type": "execute_result"
    }
   ],
   "source": [
    "df_2022.isnull().sum()"
   ]
  },
  {
   "cell_type": "code",
   "execution_count": 108,
   "id": "8b42f344",
   "metadata": {
    "collapsed": true
   },
   "outputs": [
    {
     "data": {
      "text/html": [
       "<div>\n",
       "<style scoped>\n",
       "    .dataframe tbody tr th:only-of-type {\n",
       "        vertical-align: middle;\n",
       "    }\n",
       "\n",
       "    .dataframe tbody tr th {\n",
       "        vertical-align: top;\n",
       "    }\n",
       "\n",
       "    .dataframe thead th {\n",
       "        text-align: right;\n",
       "    }\n",
       "</style>\n",
       "<table border=\"1\" class=\"dataframe\">\n",
       "  <thead>\n",
       "    <tr style=\"text-align: right;\">\n",
       "      <th></th>\n",
       "      <th>기준년도</th>\n",
       "      <th>사용본거지시읍면동_행정동기준</th>\n",
       "      <th>차명</th>\n",
       "      <th>연료</th>\n",
       "    </tr>\n",
       "  </thead>\n",
       "  <tbody>\n",
       "    <tr>\n",
       "      <th>14729</th>\n",
       "      <td>2022</td>\n",
       "      <td>NaN</td>\n",
       "      <td>렉서스 RX450h</td>\n",
       "      <td>하이브리드(휘발유+전기)</td>\n",
       "    </tr>\n",
       "    <tr>\n",
       "      <th>24829</th>\n",
       "      <td>2022</td>\n",
       "      <td>NaN</td>\n",
       "      <td>INSIGHT</td>\n",
       "      <td>하이브리드(휘발유+전기)</td>\n",
       "    </tr>\n",
       "    <tr>\n",
       "      <th>39497</th>\n",
       "      <td>2022</td>\n",
       "      <td>NaN</td>\n",
       "      <td>그랜저 하이브리드 (GRANDEUR</td>\n",
       "      <td>하이브리드(휘발유+전기)</td>\n",
       "    </tr>\n",
       "    <tr>\n",
       "      <th>53971</th>\n",
       "      <td>2022</td>\n",
       "      <td>NaN</td>\n",
       "      <td>렉서스 ES300h</td>\n",
       "      <td>하이브리드(휘발유+전기)</td>\n",
       "    </tr>\n",
       "    <tr>\n",
       "      <th>88938</th>\n",
       "      <td>2022</td>\n",
       "      <td>NaN</td>\n",
       "      <td>그랜저(GRANDEUR) 하이브리드</td>\n",
       "      <td>하이브리드(휘발유+전기)</td>\n",
       "    </tr>\n",
       "    <tr>\n",
       "      <th>101499</th>\n",
       "      <td>2022</td>\n",
       "      <td>NaN</td>\n",
       "      <td>렉서스 ES300h</td>\n",
       "      <td>하이브리드(휘발유+전기)</td>\n",
       "    </tr>\n",
       "    <tr>\n",
       "      <th>133656</th>\n",
       "      <td>2022</td>\n",
       "      <td>NaN</td>\n",
       "      <td>K5 하이브리드</td>\n",
       "      <td>하이브리드(휘발유+전기)</td>\n",
       "    </tr>\n",
       "    <tr>\n",
       "      <th>173526</th>\n",
       "      <td>2022</td>\n",
       "      <td>NaN</td>\n",
       "      <td>렉서스 ES300h</td>\n",
       "      <td>하이브리드(휘발유+전기)</td>\n",
       "    </tr>\n",
       "    <tr>\n",
       "      <th>177254</th>\n",
       "      <td>2022</td>\n",
       "      <td>NaN</td>\n",
       "      <td>K5 하이브리드</td>\n",
       "      <td>하이브리드(휘발유+전기)</td>\n",
       "    </tr>\n",
       "    <tr>\n",
       "      <th>186849</th>\n",
       "      <td>2022</td>\n",
       "      <td>NaN</td>\n",
       "      <td>렉서스 NX300h</td>\n",
       "      <td>하이브리드(휘발유+전기)</td>\n",
       "    </tr>\n",
       "    <tr>\n",
       "      <th>189585</th>\n",
       "      <td>2022</td>\n",
       "      <td>NaN</td>\n",
       "      <td>K5 하이브리드</td>\n",
       "      <td>하이브리드(휘발유+전기)</td>\n",
       "    </tr>\n",
       "  </tbody>\n",
       "</table>\n",
       "</div>"
      ],
      "text/plain": [
       "        기준년도 사용본거지시읍면동_행정동기준                    차명             연료\n",
       "14729   2022             NaN            렉서스 RX450h  하이브리드(휘발유+전기)\n",
       "24829   2022             NaN               INSIGHT  하이브리드(휘발유+전기)\n",
       "39497   2022             NaN  그랜저 하이브리드 (GRANDEUR   하이브리드(휘발유+전기)\n",
       "53971   2022             NaN            렉서스 ES300h  하이브리드(휘발유+전기)\n",
       "88938   2022             NaN   그랜저(GRANDEUR) 하이브리드  하이브리드(휘발유+전기)\n",
       "101499  2022             NaN            렉서스 ES300h  하이브리드(휘발유+전기)\n",
       "133656  2022             NaN              K5 하이브리드  하이브리드(휘발유+전기)\n",
       "173526  2022             NaN            렉서스 ES300h  하이브리드(휘발유+전기)\n",
       "177254  2022             NaN              K5 하이브리드  하이브리드(휘발유+전기)\n",
       "186849  2022             NaN            렉서스 NX300h  하이브리드(휘발유+전기)\n",
       "189585  2022             NaN              K5 하이브리드  하이브리드(휘발유+전기)"
      ]
     },
     "execution_count": 108,
     "metadata": {},
     "output_type": "execute_result"
    }
   ],
   "source": [
    "df_2022[df_2022['사용본거지시읍면동_행정동기준'].isnull()]"
   ]
  },
  {
   "cell_type": "code",
   "execution_count": null,
   "id": "ef0692ed",
   "metadata": {},
   "outputs": [],
   "source": []
  },
  {
   "cell_type": "code",
   "execution_count": null,
   "id": "9b4d1b09",
   "metadata": {},
   "outputs": [],
   "source": [
    "# nan값이 있었지만 해당 데이터가 전기차 데이터가 아니어서 삭제함"
   ]
  },
  {
   "cell_type": "code",
   "execution_count": 115,
   "id": "f0dd6286",
   "metadata": {},
   "outputs": [],
   "source": [
    "df_2022.dropna(inplace = True)"
   ]
  },
  {
   "cell_type": "code",
   "execution_count": null,
   "id": "54f419e4",
   "metadata": {},
   "outputs": [],
   "source": []
  },
  {
   "cell_type": "code",
   "execution_count": null,
   "id": "b12c0713",
   "metadata": {},
   "outputs": [],
   "source": [
    "# 하나의 데이터 프레임으로 합치기"
   ]
  },
  {
   "cell_type": "code",
   "execution_count": 120,
   "id": "1609e1ad",
   "metadata": {},
   "outputs": [],
   "source": [
    "df2018_2022 = pd.concat([df_2018, df_2019, df_2020, df_2021, df_2022], ignore_index = True)"
   ]
  },
  {
   "cell_type": "code",
   "execution_count": 121,
   "id": "d0bee892",
   "metadata": {
    "collapsed": true
   },
   "outputs": [
    {
     "data": {
      "text/html": [
       "<div>\n",
       "<style scoped>\n",
       "    .dataframe tbody tr th:only-of-type {\n",
       "        vertical-align: middle;\n",
       "    }\n",
       "\n",
       "    .dataframe tbody tr th {\n",
       "        vertical-align: top;\n",
       "    }\n",
       "\n",
       "    .dataframe thead th {\n",
       "        text-align: right;\n",
       "    }\n",
       "</style>\n",
       "<table border=\"1\" class=\"dataframe\">\n",
       "  <thead>\n",
       "    <tr style=\"text-align: right;\">\n",
       "      <th></th>\n",
       "      <th>기준년도</th>\n",
       "      <th>사용본거지시읍면동_행정동기준</th>\n",
       "      <th>차명</th>\n",
       "      <th>연료</th>\n",
       "    </tr>\n",
       "  </thead>\n",
       "  <tbody>\n",
       "    <tr>\n",
       "      <th>0</th>\n",
       "      <td>2018</td>\n",
       "      <td>서울특별시 강남구 압구정동</td>\n",
       "      <td>쏘나타 (SONATA) 하이브리드</td>\n",
       "      <td>하이브리드(휘발유+전기)</td>\n",
       "    </tr>\n",
       "    <tr>\n",
       "      <th>1</th>\n",
       "      <td>2018</td>\n",
       "      <td>서울특별시 강남구 압구정동</td>\n",
       "      <td>렉서스 ES300h</td>\n",
       "      <td>하이브리드(휘발유+전기)</td>\n",
       "    </tr>\n",
       "    <tr>\n",
       "      <th>2</th>\n",
       "      <td>2018</td>\n",
       "      <td>서울특별시 강남구 압구정동</td>\n",
       "      <td>쏘나타 (SONATA) 하이브리드</td>\n",
       "      <td>하이브리드(휘발유+전기)</td>\n",
       "    </tr>\n",
       "    <tr>\n",
       "      <th>3</th>\n",
       "      <td>2018</td>\n",
       "      <td>서울특별시 강남구 압구정동</td>\n",
       "      <td>쏘나타 (SONATA) 하이브리드</td>\n",
       "      <td>하이브리드(휘발유+전기)</td>\n",
       "    </tr>\n",
       "    <tr>\n",
       "      <th>4</th>\n",
       "      <td>2018</td>\n",
       "      <td>서울특별시 강남구 압구정동</td>\n",
       "      <td>렉서스 ES300h</td>\n",
       "      <td>하이브리드(휘발유+전기)</td>\n",
       "    </tr>\n",
       "    <tr>\n",
       "      <th>...</th>\n",
       "      <td>...</td>\n",
       "      <td>...</td>\n",
       "      <td>...</td>\n",
       "      <td>...</td>\n",
       "    </tr>\n",
       "    <tr>\n",
       "      <th>705360</th>\n",
       "      <td>2022</td>\n",
       "      <td>서울특별시 중랑구 중화2동</td>\n",
       "      <td>쏘렌토 하이브리드</td>\n",
       "      <td>하이브리드(휘발유+전기)</td>\n",
       "    </tr>\n",
       "    <tr>\n",
       "      <th>705361</th>\n",
       "      <td>2022</td>\n",
       "      <td>서울특별시 중랑구 중화2동</td>\n",
       "      <td>토요타 Camry Hybrid</td>\n",
       "      <td>하이브리드(휘발유+전기)</td>\n",
       "    </tr>\n",
       "    <tr>\n",
       "      <th>705362</th>\n",
       "      <td>2022</td>\n",
       "      <td>서울특별시 중랑구 중화2동</td>\n",
       "      <td>그랜저(GRANDEUR) 하이브리드</td>\n",
       "      <td>하이브리드(휘발유+전기)</td>\n",
       "    </tr>\n",
       "    <tr>\n",
       "      <th>705363</th>\n",
       "      <td>2022</td>\n",
       "      <td>서울특별시 중랑구 중화2동</td>\n",
       "      <td>니로 하이브리드</td>\n",
       "      <td>하이브리드(휘발유+전기)</td>\n",
       "    </tr>\n",
       "    <tr>\n",
       "      <th>705364</th>\n",
       "      <td>2022</td>\n",
       "      <td>서울특별시 중랑구 중화2동</td>\n",
       "      <td>포터Ⅱ 일렉트릭 (PORTERⅡ EL</td>\n",
       "      <td>전기</td>\n",
       "    </tr>\n",
       "  </tbody>\n",
       "</table>\n",
       "<p>705365 rows × 4 columns</p>\n",
       "</div>"
      ],
      "text/plain": [
       "        기준년도 사용본거지시읍면동_행정동기준                    차명             연료\n",
       "0       2018  서울특별시 강남구 압구정동    쏘나타 (SONATA) 하이브리드  하이브리드(휘발유+전기)\n",
       "1       2018  서울특별시 강남구 압구정동            렉서스 ES300h  하이브리드(휘발유+전기)\n",
       "2       2018  서울특별시 강남구 압구정동    쏘나타 (SONATA) 하이브리드  하이브리드(휘발유+전기)\n",
       "3       2018  서울특별시 강남구 압구정동    쏘나타 (SONATA) 하이브리드  하이브리드(휘발유+전기)\n",
       "4       2018  서울특별시 강남구 압구정동            렉서스 ES300h  하이브리드(휘발유+전기)\n",
       "...      ...             ...                   ...            ...\n",
       "705360  2022  서울특별시 중랑구 중화2동             쏘렌토 하이브리드  하이브리드(휘발유+전기)\n",
       "705361  2022  서울특별시 중랑구 중화2동      토요타 Camry Hybrid  하이브리드(휘발유+전기)\n",
       "705362  2022  서울특별시 중랑구 중화2동   그랜저(GRANDEUR) 하이브리드  하이브리드(휘발유+전기)\n",
       "705363  2022  서울특별시 중랑구 중화2동              니로 하이브리드  하이브리드(휘발유+전기)\n",
       "705364  2022  서울특별시 중랑구 중화2동  포터Ⅱ 일렉트릭 (PORTERⅡ EL             전기\n",
       "\n",
       "[705365 rows x 4 columns]"
      ]
     },
     "execution_count": 121,
     "metadata": {},
     "output_type": "execute_result"
    }
   ],
   "source": [
    "df2018_2022"
   ]
  },
  {
   "cell_type": "code",
   "execution_count": null,
   "id": "809d3f25",
   "metadata": {},
   "outputs": [],
   "source": []
  },
  {
   "cell_type": "code",
   "execution_count": null,
   "id": "45bdae27",
   "metadata": {},
   "outputs": [],
   "source": [
    "# 2018년도에서 2022년도까지의 자동차 등록 데이터에서 전기차 데이터만 데이터프레임으로 만들기"
   ]
  },
  {
   "cell_type": "code",
   "execution_count": 130,
   "id": "91ce3d97",
   "metadata": {},
   "outputs": [],
   "source": [
    "df = df2018_2022[df2018_2022['연료'] == '전기']"
   ]
  },
  {
   "cell_type": "code",
   "execution_count": 132,
   "id": "1055d2cd",
   "metadata": {},
   "outputs": [],
   "source": [
    "df.reset_index(drop = False, inplace = True)"
   ]
  },
  {
   "cell_type": "code",
   "execution_count": 136,
   "id": "bf23b5b5",
   "metadata": {
    "collapsed": true
   },
   "outputs": [
    {
     "name": "stderr",
     "output_type": "stream",
     "text": [
      "C:\\Users\\YONSAI\\AppData\\Local\\Temp\\ipykernel_8580\\3428817810.py:1: SettingWithCopyWarning: \n",
      "A value is trying to be set on a copy of a slice from a DataFrame\n",
      "\n",
      "See the caveats in the documentation: https://pandas.pydata.org/pandas-docs/stable/user_guide/indexing.html#returning-a-view-versus-a-copy\n",
      "  df.drop('index', axis = 1, inplace = True)\n"
     ]
    }
   ],
   "source": [
    "df.drop('index', axis = 1, inplace = True)"
   ]
  },
  {
   "cell_type": "code",
   "execution_count": null,
   "id": "f9a1065a",
   "metadata": {},
   "outputs": [],
   "source": []
  },
  {
   "cell_type": "code",
   "execution_count": null,
   "id": "195b99d6",
   "metadata": {},
   "outputs": [],
   "source": [
    "# 2018년도 서울특별시 전기차 등록수 9560대\n",
    "# 2019년도 서울특별시 전기차 등록수 14947대\n",
    "# 2020년도 서울특별시 전기차 등록수 23384대\n",
    "# 2021년도 서울특별시 전기차 등록수 40544대\n",
    "# 2022년도2월까지 서울특별시 전기차 등록수 41673대\n",
    "# 총 등록된 전기차 수 130108"
   ]
  },
  {
   "cell_type": "code",
   "execution_count": 144,
   "id": "3f39a709",
   "metadata": {},
   "outputs": [
    {
     "data": {
      "text/html": [
       "<div>\n",
       "<style scoped>\n",
       "    .dataframe tbody tr th:only-of-type {\n",
       "        vertical-align: middle;\n",
       "    }\n",
       "\n",
       "    .dataframe tbody tr th {\n",
       "        vertical-align: top;\n",
       "    }\n",
       "\n",
       "    .dataframe thead th {\n",
       "        text-align: right;\n",
       "    }\n",
       "</style>\n",
       "<table border=\"1\" class=\"dataframe\">\n",
       "  <thead>\n",
       "    <tr style=\"text-align: right;\">\n",
       "      <th></th>\n",
       "      <th>기준년도</th>\n",
       "      <th>사용본거지시읍면동_행정동기준</th>\n",
       "      <th>차명</th>\n",
       "      <th>연료</th>\n",
       "    </tr>\n",
       "  </thead>\n",
       "  <tbody>\n",
       "    <tr>\n",
       "      <th>0</th>\n",
       "      <td>2018</td>\n",
       "      <td>서울특별시 송파구 잠실6동</td>\n",
       "      <td>아이오닉 일렉트릭(IONIQ ELEC</td>\n",
       "      <td>전기</td>\n",
       "    </tr>\n",
       "    <tr>\n",
       "      <th>1</th>\n",
       "      <td>2018</td>\n",
       "      <td>서울특별시 강남구 역삼1동</td>\n",
       "      <td>TWIZY</td>\n",
       "      <td>전기</td>\n",
       "    </tr>\n",
       "    <tr>\n",
       "      <th>2</th>\n",
       "      <td>2018</td>\n",
       "      <td>서울특별시 구로구 개봉1동</td>\n",
       "      <td>쏘울 EV</td>\n",
       "      <td>전기</td>\n",
       "    </tr>\n",
       "    <tr>\n",
       "      <th>3</th>\n",
       "      <td>2018</td>\n",
       "      <td>서울특별시 강동구 천호3동</td>\n",
       "      <td>코나 일렉트릭 (KONA ELECTRIC</td>\n",
       "      <td>전기</td>\n",
       "    </tr>\n",
       "    <tr>\n",
       "      <th>4</th>\n",
       "      <td>2018</td>\n",
       "      <td>서울특별시 송파구 장지동</td>\n",
       "      <td>코나 일렉트릭 (KONA ELECTRIC</td>\n",
       "      <td>전기</td>\n",
       "    </tr>\n",
       "    <tr>\n",
       "      <th>...</th>\n",
       "      <td>...</td>\n",
       "      <td>...</td>\n",
       "      <td>...</td>\n",
       "      <td>...</td>\n",
       "    </tr>\n",
       "    <tr>\n",
       "      <th>130103</th>\n",
       "      <td>2022</td>\n",
       "      <td>서울특별시 중랑구 중화1동</td>\n",
       "      <td>니로 EV</td>\n",
       "      <td>전기</td>\n",
       "    </tr>\n",
       "    <tr>\n",
       "      <th>130104</th>\n",
       "      <td>2022</td>\n",
       "      <td>서울특별시 중랑구 중화1동</td>\n",
       "      <td>Model Y Long Range</td>\n",
       "      <td>전기</td>\n",
       "    </tr>\n",
       "    <tr>\n",
       "      <th>130105</th>\n",
       "      <td>2022</td>\n",
       "      <td>서울특별시 중랑구 중화1동</td>\n",
       "      <td>포터Ⅱ 일렉트릭 (PORTERⅡ EL</td>\n",
       "      <td>전기</td>\n",
       "    </tr>\n",
       "    <tr>\n",
       "      <th>130106</th>\n",
       "      <td>2022</td>\n",
       "      <td>서울특별시 중랑구 중화2동</td>\n",
       "      <td>니로 EV</td>\n",
       "      <td>전기</td>\n",
       "    </tr>\n",
       "    <tr>\n",
       "      <th>130107</th>\n",
       "      <td>2022</td>\n",
       "      <td>서울특별시 중랑구 중화2동</td>\n",
       "      <td>포터Ⅱ 일렉트릭 (PORTERⅡ EL</td>\n",
       "      <td>전기</td>\n",
       "    </tr>\n",
       "  </tbody>\n",
       "</table>\n",
       "<p>130108 rows × 4 columns</p>\n",
       "</div>"
      ],
      "text/plain": [
       "        기준년도 사용본거지시읍면동_행정동기준                      차명  연료\n",
       "0       2018  서울특별시 송파구 잠실6동    아이오닉 일렉트릭(IONIQ ELEC  전기\n",
       "1       2018  서울특별시 강남구 역삼1동                   TWIZY  전기\n",
       "2       2018  서울특별시 구로구 개봉1동                   쏘울 EV  전기\n",
       "3       2018  서울특별시 강동구 천호3동  코나 일렉트릭 (KONA ELECTRIC  전기\n",
       "4       2018   서울특별시 송파구 장지동  코나 일렉트릭 (KONA ELECTRIC  전기\n",
       "...      ...             ...                     ...  ..\n",
       "130103  2022  서울특별시 중랑구 중화1동                   니로 EV  전기\n",
       "130104  2022  서울특별시 중랑구 중화1동      Model Y Long Range  전기\n",
       "130105  2022  서울특별시 중랑구 중화1동    포터Ⅱ 일렉트릭 (PORTERⅡ EL  전기\n",
       "130106  2022  서울특별시 중랑구 중화2동                   니로 EV  전기\n",
       "130107  2022  서울특별시 중랑구 중화2동    포터Ⅱ 일렉트릭 (PORTERⅡ EL  전기\n",
       "\n",
       "[130108 rows x 4 columns]"
      ]
     },
     "execution_count": 144,
     "metadata": {},
     "output_type": "execute_result"
    }
   ],
   "source": [
    "df"
   ]
  },
  {
   "cell_type": "code",
   "execution_count": null,
   "id": "e00c9332",
   "metadata": {},
   "outputs": [],
   "source": []
  },
  {
   "cell_type": "code",
   "execution_count": null,
   "id": "278ef9c9",
   "metadata": {},
   "outputs": [],
   "source": []
  },
  {
   "cell_type": "markdown",
   "id": "7f868759",
   "metadata": {},
   "source": [
    "# 서울특별시 전기차 충전소 전처리"
   ]
  },
  {
   "cell_type": "code",
   "execution_count": null,
   "id": "006b1971",
   "metadata": {},
   "outputs": [],
   "source": []
  },
  {
   "cell_type": "code",
   "execution_count": 18,
   "id": "76e910ff",
   "metadata": {
    "scrolled": true
   },
   "outputs": [],
   "source": [
    "df_ch = pd.read_excel('./Data/전기차 충전소 설치현황_20221206.xls', header=2)"
   ]
  },
  {
   "cell_type": "code",
   "execution_count": 19,
   "id": "e18d0fba",
   "metadata": {},
   "outputs": [
    {
     "data": {
      "text/html": [
       "<div>\n",
       "<style scoped>\n",
       "    .dataframe tbody tr th:only-of-type {\n",
       "        vertical-align: middle;\n",
       "    }\n",
       "\n",
       "    .dataframe tbody tr th {\n",
       "        vertical-align: top;\n",
       "    }\n",
       "\n",
       "    .dataframe thead th {\n",
       "        text-align: right;\n",
       "    }\n",
       "</style>\n",
       "<table border=\"1\" class=\"dataframe\">\n",
       "  <thead>\n",
       "    <tr style=\"text-align: right;\">\n",
       "      <th></th>\n",
       "      <th>시구</th>\n",
       "      <th>설치장소</th>\n",
       "      <th>주소</th>\n",
       "      <th>급속충전기(대)</th>\n",
       "      <th>완속충전기(대)</th>\n",
       "      <th>지원차종</th>\n",
       "    </tr>\n",
       "  </thead>\n",
       "  <tbody>\n",
       "    <tr>\n",
       "      <th>0</th>\n",
       "      <td>전체</td>\n",
       "      <td>가평소방서</td>\n",
       "      <td>경기도 가평군 가평읍 대곡리 213-5</td>\n",
       "      <td>1</td>\n",
       "      <td>0</td>\n",
       "      <td>SM3 Z.E,테슬라</td>\n",
       "    </tr>\n",
       "    <tr>\n",
       "      <th>1</th>\n",
       "      <td>전체</td>\n",
       "      <td>가평종합운동장</td>\n",
       "      <td>경기도 가평군 가평읍 대곡리 316</td>\n",
       "      <td>2</td>\n",
       "      <td>0</td>\n",
       "      <td>BMW i3,스파크EV,볼트EV</td>\n",
       "    </tr>\n",
       "    <tr>\n",
       "      <th>2</th>\n",
       "      <td>전체</td>\n",
       "      <td>가평지사</td>\n",
       "      <td>경기도 가평군 가평읍 가화로 169-11</td>\n",
       "      <td>1</td>\n",
       "      <td>1</td>\n",
       "      <td>SM3 Z.E,레이EV,소울EV,닛산리프,아이오닉EV,BMW i3,스파크EV,볼트E...</td>\n",
       "    </tr>\n",
       "    <tr>\n",
       "      <th>3</th>\n",
       "      <td>전체</td>\n",
       "      <td>가평하수도사업소</td>\n",
       "      <td>경기도 가평군 가평읍 달전리 364</td>\n",
       "      <td>1</td>\n",
       "      <td>0</td>\n",
       "      <td>SM3 Z.E,테슬라</td>\n",
       "    </tr>\n",
       "    <tr>\n",
       "      <th>4</th>\n",
       "      <td>전체</td>\n",
       "      <td>상면사무소</td>\n",
       "      <td>경기도 가평군 상면 연하리 171-1</td>\n",
       "      <td>1</td>\n",
       "      <td>0</td>\n",
       "      <td>SM3 Z.E,레이EV,소울EV,닛산리프,아이오닉EV,BMW i3,스파크EV,볼트E...</td>\n",
       "    </tr>\n",
       "    <tr>\n",
       "      <th>...</th>\n",
       "      <td>...</td>\n",
       "      <td>...</td>\n",
       "      <td>...</td>\n",
       "      <td>...</td>\n",
       "      <td>...</td>\n",
       "      <td>...</td>\n",
       "    </tr>\n",
       "    <tr>\n",
       "      <th>4707</th>\n",
       "      <td>전체</td>\n",
       "      <td>안흥찐빵모락모락마을</td>\n",
       "      <td>강원도 횡성군 안흥면 안흥리 1063</td>\n",
       "      <td>1</td>\n",
       "      <td>0</td>\n",
       "      <td>SM3 Z.E,테슬라</td>\n",
       "    </tr>\n",
       "    <tr>\n",
       "      <th>4708</th>\n",
       "      <td>전체</td>\n",
       "      <td>우천일반산업단지</td>\n",
       "      <td>강원도 횡성군 우천면 상하가리 440</td>\n",
       "      <td>1</td>\n",
       "      <td>0</td>\n",
       "      <td>SM3 Z.E,테슬라</td>\n",
       "    </tr>\n",
       "    <tr>\n",
       "      <th>4709</th>\n",
       "      <td>전체</td>\n",
       "      <td>원흥2차 아파트</td>\n",
       "      <td>강원도 횡성군 횡성읍 읍하리 395-2</td>\n",
       "      <td>0</td>\n",
       "      <td>1</td>\n",
       "      <td>SM3 Z.E,레이EV,소울EV,닛산리프,아이오닉EV,BMW i3,스파크EV,볼트E...</td>\n",
       "    </tr>\n",
       "    <tr>\n",
       "      <th>4710</th>\n",
       "      <td>전체</td>\n",
       "      <td>횡성국민체육센터</td>\n",
       "      <td>강원도 횡성군 횡성읍 읍하리 260</td>\n",
       "      <td>1</td>\n",
       "      <td>0</td>\n",
       "      <td>SM3 Z.E,테슬라</td>\n",
       "    </tr>\n",
       "    <tr>\n",
       "      <th>4711</th>\n",
       "      <td>전체</td>\n",
       "      <td>횡성지사</td>\n",
       "      <td>강원도 횡성군 횡성읍 읍하리 561-7</td>\n",
       "      <td>0</td>\n",
       "      <td>1</td>\n",
       "      <td>레이EV,소울EV,닛산리프,아이오닉EV,BMW i3,스파크EV,볼트EV</td>\n",
       "    </tr>\n",
       "  </tbody>\n",
       "</table>\n",
       "<p>4712 rows × 6 columns</p>\n",
       "</div>"
      ],
      "text/plain": [
       "      시구        설치장소                      주소  급속충전기(대)  완속충전기(대)  \\\n",
       "0     전체       가평소방서   경기도 가평군 가평읍 대곡리 213-5         1         0   \n",
       "1     전체     가평종합운동장     경기도 가평군 가평읍 대곡리 316         2         0   \n",
       "2     전체        가평지사  경기도 가평군 가평읍 가화로 169-11         1         1   \n",
       "3     전체    가평하수도사업소     경기도 가평군 가평읍 달전리 364         1         0   \n",
       "4     전체       상면사무소    경기도 가평군 상면 연하리 171-1         1         0   \n",
       "...   ..         ...                     ...       ...       ...   \n",
       "4707  전체  안흥찐빵모락모락마을    강원도 횡성군 안흥면 안흥리 1063         1         0   \n",
       "4708  전체    우천일반산업단지    강원도 횡성군 우천면 상하가리 440         1         0   \n",
       "4709  전체    원흥2차 아파트   강원도 횡성군 횡성읍 읍하리 395-2         0         1   \n",
       "4710  전체    횡성국민체육센터     강원도 횡성군 횡성읍 읍하리 260         1         0   \n",
       "4711  전체        횡성지사   강원도 횡성군 횡성읍 읍하리 561-7         0         1   \n",
       "\n",
       "                                                   지원차종  \n",
       "0                                           SM3 Z.E,테슬라  \n",
       "1                                     BMW i3,스파크EV,볼트EV  \n",
       "2     SM3 Z.E,레이EV,소울EV,닛산리프,아이오닉EV,BMW i3,스파크EV,볼트E...  \n",
       "3                                           SM3 Z.E,테슬라  \n",
       "4     SM3 Z.E,레이EV,소울EV,닛산리프,아이오닉EV,BMW i3,스파크EV,볼트E...  \n",
       "...                                                 ...  \n",
       "4707                                        SM3 Z.E,테슬라  \n",
       "4708                                        SM3 Z.E,테슬라  \n",
       "4709  SM3 Z.E,레이EV,소울EV,닛산리프,아이오닉EV,BMW i3,스파크EV,볼트E...  \n",
       "4710                                        SM3 Z.E,테슬라  \n",
       "4711            레이EV,소울EV,닛산리프,아이오닉EV,BMW i3,스파크EV,볼트EV  \n",
       "\n",
       "[4712 rows x 6 columns]"
      ]
     },
     "execution_count": 19,
     "metadata": {},
     "output_type": "execute_result"
    }
   ],
   "source": [
    "df_ch"
   ]
  },
  {
   "cell_type": "code",
   "execution_count": null,
   "id": "e720c8a6",
   "metadata": {},
   "outputs": [],
   "source": []
  },
  {
   "cell_type": "code",
   "execution_count": null,
   "id": "2c5d9662",
   "metadata": {},
   "outputs": [],
   "source": []
  },
  {
   "cell_type": "code",
   "execution_count": null,
   "id": "87e924f4",
   "metadata": {},
   "outputs": [],
   "source": []
  },
  {
   "cell_type": "code",
   "execution_count": null,
   "id": "e5e35c6a",
   "metadata": {},
   "outputs": [],
   "source": []
  },
  {
   "cell_type": "code",
   "execution_count": null,
   "id": "1616b81c",
   "metadata": {},
   "outputs": [],
   "source": []
  },
  {
   "cell_type": "code",
   "execution_count": null,
   "id": "e9bb831d",
   "metadata": {},
   "outputs": [],
   "source": []
  },
  {
   "cell_type": "code",
   "execution_count": null,
   "id": "6b4c7cd8",
   "metadata": {},
   "outputs": [],
   "source": []
  },
  {
   "cell_type": "code",
   "execution_count": null,
   "id": "086b2a11",
   "metadata": {},
   "outputs": [],
   "source": []
  },
  {
   "cell_type": "code",
   "execution_count": null,
   "id": "93cbef90",
   "metadata": {},
   "outputs": [],
   "source": []
  },
  {
   "cell_type": "code",
   "execution_count": null,
   "id": "53e1b9bc",
   "metadata": {},
   "outputs": [],
   "source": []
  },
  {
   "cell_type": "code",
   "execution_count": null,
   "id": "5368255b",
   "metadata": {},
   "outputs": [],
   "source": []
  }
 ],
 "metadata": {
  "kernelspec": {
   "display_name": "Python 3 (ipykernel)",
   "language": "python",
   "name": "python3"
  },
  "language_info": {
   "codemirror_mode": {
    "name": "ipython",
    "version": 3
   },
   "file_extension": ".py",
   "mimetype": "text/x-python",
   "name": "python",
   "nbconvert_exporter": "python",
   "pygments_lexer": "ipython3",
   "version": "3.9.12"
  }
 },
 "nbformat": 4,
 "nbformat_minor": 5
}
